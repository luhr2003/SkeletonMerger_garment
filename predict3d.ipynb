{
 "cells": [
  {
   "cell_type": "code",
   "execution_count": 15,
   "outputs": [],
   "source": [
    "import os\n",
    "import open3d as o3d\n",
    "\n",
    "import torch\n",
    "import merger.merger_net as merger_net\n",
    "from merger.merger_net import Net\n",
    "import json\n",
    "import tqdm\n",
    "import numpy as np\n",
    "import argparse\n",
    "\n",
    "arg_parser = argparse.ArgumentParser(description=\"Predictor for Skeleton Merger on KeypointNet dataset. Outputs a npz file with two arrays: kpcd - (N, k, 3) xyz coordinates of keypoints detected; nfact - (N, 2) normalization factor, or max and min coordinate values in a point cloud.\", formatter_class=argparse.ArgumentDefaultsHelpFormatter)\n",
    "pcd_path='/home/luhr/correspondence/SkeletonMerger_garment/cloth3d/train'\n",
    "checkpoint_path='20.pth'\n",
    "device='cuda'\n",
    "n_keypoint=20\n",
    "batch=4\n",
    "max_points=10000"
   ],
   "metadata": {
    "collapsed": false,
    "ExecuteTime": {
     "end_time": "2023-08-10T13:34:39.424223582Z",
     "start_time": "2023-08-10T13:34:39.377521950Z"
    }
   },
   "id": "82be9a82eb88ea03"
  },
  {
   "cell_type": "code",
   "execution_count": 10,
   "outputs": [],
   "source": [
    "def load_cloth_mesh(path):\n",
    "    \"\"\"Load .obj of cloth mesh. Only quad-mesh is acceptable!\n",
    "    Return:\n",
    "        - vertices: ndarray, (N, 3)\n",
    "        - triangle_faces: ndarray, (S, 3)\n",
    "        - stretch_edges: ndarray, (M1, 2)\n",
    "        - bend_edges: ndarray, (M2, 2)\n",
    "        - shear_edges: ndarray, (M3, 2)\n",
    "    This function was written by Zhenjia Xu\n",
    "    email: xuzhenjia [at] cs (dot) columbia (dot) edu\n",
    "    website: https://www.zhenjiaxu.com/\n",
    "    \"\"\"\n",
    "    vertices, faces = [], []\n",
    "    with open(path, 'r') as f:\n",
    "        lines = f.readlines()\n",
    "    for line in lines:\n",
    "        # 3D vertex\n",
    "        if line.startswith('v '):\n",
    "            vertices.append([float(n)\n",
    "                             for n in line.replace('v ', '').split(' ')])\n",
    "        # Face\n",
    "        elif line.startswith('f '):\n",
    "            idx = [n.split('/') for n in line.replace('f ', '').split(' ')]\n",
    "            face = [int(n[0]) - 1 for n in idx]\n",
    "            assert(len(face) == 4)\n",
    "            faces.append(face)\n",
    "\n",
    "    triangle_faces = []\n",
    "    for face in faces:\n",
    "        triangle_faces.append([face[0], face[1], face[2]])\n",
    "        triangle_faces.append([face[0], face[2], face[3]])\n",
    "\n",
    "    stretch_edges, shear_edges, bend_edges = set(), set(), set()\n",
    "\n",
    "    # Stretch & Shear\n",
    "    for face in faces:\n",
    "        stretch_edges.add(tuple(sorted([face[0], face[1]])))\n",
    "        stretch_edges.add(tuple(sorted([face[1], face[2]])))\n",
    "        stretch_edges.add(tuple(sorted([face[2], face[3]])))\n",
    "        stretch_edges.add(tuple(sorted([face[3], face[0]])))\n",
    "\n",
    "        shear_edges.add(tuple(sorted([face[0], face[2]])))\n",
    "        shear_edges.add(tuple(sorted([face[1], face[3]])))\n",
    "\n",
    "    # Bend\n",
    "    neighbours = dict()\n",
    "    for vid in range(len(vertices)):\n",
    "        neighbours[vid] = set()\n",
    "    for edge in stretch_edges:\n",
    "        neighbours[edge[0]].add(edge[1])\n",
    "        neighbours[edge[1]].add(edge[0])\n",
    "    for vid in range(len(vertices)):\n",
    "        neighbour_list = list(neighbours[vid])\n",
    "        N = len(neighbour_list)\n",
    "        for i in range(N - 1):\n",
    "            for j in range(i+1, N):\n",
    "                bend_edge = tuple(\n",
    "                    sorted([neighbour_list[i], neighbour_list[j]]))\n",
    "                if bend_edge not in shear_edges:\n",
    "                    bend_edges.add(bend_edge)\n",
    "    return np.array(vertices), np.array(triangle_faces),\\\n",
    "        np.array(list(stretch_edges)), np.array(\n",
    "            list(bend_edges)), np.array(list(shear_edges))\n",
    "\n",
    "\n",
    "\n",
    "\n",
    "def prepare_data(path):\n",
    "    data=[]\n",
    "    paths=[]\n",
    "    ori_data=[]\n",
    "    for root,dirs,files in os.walk(path):\n",
    "        for file in files:\n",
    "            if file.endswith('processed.obj'):\n",
    "                file_path=os.path.join(root,file)\n",
    "                vertices, trangle_faces, stretch_edges, bend_edges, shear_edges = load_cloth_mesh(os.path.join(root, file))\n",
    "                points=np.array(vertices)\n",
    "                ori_data.append(points)\n",
    "                # downsample to 10000 points\n",
    "                if len(points)>max_points:\n",
    "                    points=points[np.random.choice(len(points),max_points,replace=False)]\n",
    "                    data.append(points)\n",
    "                    paths.append(file_path)\n",
    "    return ori_data,data,paths\n",
    "\n",
    "def find_nearest_point(points,kp):\n",
    "    kp=np.array(kp)\n",
    "    points=np.array(points)\n",
    "    dist=np.linalg.norm(kp[np.newaxis,:,:]-points[:,np.newaxis,:],axis=2)\n",
    "    return np.argmin(dist,axis=0)\n",
    "\n",
    "def visualize_pointcloud(pc,kp):\n",
    "    pcd=o3d.geometry.PointCloud()\n",
    "    pcd.points=o3d.utility.Vector3dVector(pc)\n",
    "    colors=np.zeros_like(pc)\n",
    "    colors[kp]=np.array([1,0,0])\n",
    "    pcd.colors=o3d.utility.Vector3dVector(colors)\n",
    "    o3d.visualization.draw_geometries([pcd])"
   ],
   "metadata": {
    "collapsed": false,
    "ExecuteTime": {
     "end_time": "2023-08-10T13:30:41.253364752Z",
     "start_time": "2023-08-10T13:30:41.245076166Z"
    }
   },
   "id": "d0ab48227ed4d011"
  },
  {
   "cell_type": "code",
   "execution_count": 16,
   "outputs": [
    {
     "ename": "RuntimeError",
     "evalue": "Error(s) in loading state_dict for Net:\n\tMissing key(s) in state_dict: \"DEC.10.0.emb\", \"DEC.10.1.emb\", \"DEC.10.2.emb\", \"DEC.10.3.emb\", \"DEC.10.4.emb\", \"DEC.10.5.emb\", \"DEC.10.6.emb\", \"DEC.10.7.emb\", \"DEC.10.8.emb\", \"DEC.10.9.emb\", \"DEC.11.0.emb\", \"DEC.11.1.emb\", \"DEC.11.2.emb\", \"DEC.11.3.emb\", \"DEC.11.4.emb\", \"DEC.11.5.emb\", \"DEC.11.6.emb\", \"DEC.11.7.emb\", \"DEC.11.8.emb\", \"DEC.11.9.emb\", \"DEC.11.10.emb\", \"DEC.12.0.emb\", \"DEC.12.1.emb\", \"DEC.12.2.emb\", \"DEC.12.3.emb\", \"DEC.12.4.emb\", \"DEC.12.5.emb\", \"DEC.12.6.emb\", \"DEC.12.7.emb\", \"DEC.12.8.emb\", \"DEC.12.9.emb\", \"DEC.12.10.emb\", \"DEC.12.11.emb\", \"DEC.13.0.emb\", \"DEC.13.1.emb\", \"DEC.13.2.emb\", \"DEC.13.3.emb\", \"DEC.13.4.emb\", \"DEC.13.5.emb\", \"DEC.13.6.emb\", \"DEC.13.7.emb\", \"DEC.13.8.emb\", \"DEC.13.9.emb\", \"DEC.13.10.emb\", \"DEC.13.11.emb\", \"DEC.13.12.emb\", \"DEC.14.0.emb\", \"DEC.14.1.emb\", \"DEC.14.2.emb\", \"DEC.14.3.emb\", \"DEC.14.4.emb\", \"DEC.14.5.emb\", \"DEC.14.6.emb\", \"DEC.14.7.emb\", \"DEC.14.8.emb\", \"DEC.14.9.emb\", \"DEC.14.10.emb\", \"DEC.14.11.emb\", \"DEC.14.12.emb\", \"DEC.14.13.emb\", \"DEC.15.0.emb\", \"DEC.15.1.emb\", \"DEC.15.2.emb\", \"DEC.15.3.emb\", \"DEC.15.4.emb\", \"DEC.15.5.emb\", \"DEC.15.6.emb\", \"DEC.15.7.emb\", \"DEC.15.8.emb\", \"DEC.15.9.emb\", \"DEC.15.10.emb\", \"DEC.15.11.emb\", \"DEC.15.12.emb\", \"DEC.15.13.emb\", \"DEC.15.14.emb\", \"DEC.16.0.emb\", \"DEC.16.1.emb\", \"DEC.16.2.emb\", \"DEC.16.3.emb\", \"DEC.16.4.emb\", \"DEC.16.5.emb\", \"DEC.16.6.emb\", \"DEC.16.7.emb\", \"DEC.16.8.emb\", \"DEC.16.9.emb\", \"DEC.16.10.emb\", \"DEC.16.11.emb\", \"DEC.16.12.emb\", \"DEC.16.13.emb\", \"DEC.16.14.emb\", \"DEC.16.15.emb\", \"DEC.17.0.emb\", \"DEC.17.1.emb\", \"DEC.17.2.emb\", \"DEC.17.3.emb\", \"DEC.17.4.emb\", \"DEC.17.5.emb\", \"DEC.17.6.emb\", \"DEC.17.7.emb\", \"DEC.17.8.emb\", \"DEC.17.9.emb\", \"DEC.17.10.emb\", \"DEC.17.11.emb\", \"DEC.17.12.emb\", \"DEC.17.13.emb\", \"DEC.17.14.emb\", \"DEC.17.15.emb\", \"DEC.17.16.emb\", \"DEC.18.0.emb\", \"DEC.18.1.emb\", \"DEC.18.2.emb\", \"DEC.18.3.emb\", \"DEC.18.4.emb\", \"DEC.18.5.emb\", \"DEC.18.6.emb\", \"DEC.18.7.emb\", \"DEC.18.8.emb\", \"DEC.18.9.emb\", \"DEC.18.10.emb\", \"DEC.18.11.emb\", \"DEC.18.12.emb\", \"DEC.18.13.emb\", \"DEC.18.14.emb\", \"DEC.18.15.emb\", \"DEC.18.16.emb\", \"DEC.18.17.emb\", \"DEC.19.0.emb\", \"DEC.19.1.emb\", \"DEC.19.2.emb\", \"DEC.19.3.emb\", \"DEC.19.4.emb\", \"DEC.19.5.emb\", \"DEC.19.6.emb\", \"DEC.19.7.emb\", \"DEC.19.8.emb\", \"DEC.19.9.emb\", \"DEC.19.10.emb\", \"DEC.19.11.emb\", \"DEC.19.12.emb\", \"DEC.19.13.emb\", \"DEC.19.14.emb\", \"DEC.19.15.emb\", \"DEC.19.16.emb\", \"DEC.19.17.emb\", \"DEC.19.18.emb\". \n\tsize mismatch for MA_EMB: copying a param with shape torch.Size([45]) from checkpoint, the shape in current model is torch.Size([190]).\n\tsize mismatch for PTW.conv2.weight: copying a param with shape torch.Size([10, 128, 1]) from checkpoint, the shape in current model is torch.Size([20, 128, 1]).\n\tsize mismatch for PTW.conv2.bias: copying a param with shape torch.Size([10]) from checkpoint, the shape in current model is torch.Size([20]).\n\tsize mismatch for PT_L.weight: copying a param with shape torch.Size([10, 10]) from checkpoint, the shape in current model is torch.Size([20, 20]).\n\tsize mismatch for PT_L.bias: copying a param with shape torch.Size([10]) from checkpoint, the shape in current model is torch.Size([20]).\n\tsize mismatch for MA_L.weight: copying a param with shape torch.Size([45, 256]) from checkpoint, the shape in current model is torch.Size([190, 256]).\n\tsize mismatch for MA_L.bias: copying a param with shape torch.Size([45]) from checkpoint, the shape in current model is torch.Size([190]).",
     "output_type": "error",
     "traceback": [
      "\u001B[0;31m---------------------------------------------------------------------------\u001B[0m",
      "\u001B[0;31mRuntimeError\u001B[0m                              Traceback (most recent call last)",
      "\u001B[0;32m/tmp/ipykernel_14749/1964525987.py\u001B[0m in \u001B[0;36m<module>\u001B[0;34m\u001B[0m\n\u001B[1;32m      1\u001B[0m \u001B[0mnet\u001B[0m \u001B[0;34m=\u001B[0m \u001B[0mNet\u001B[0m\u001B[0;34m(\u001B[0m\u001B[0mmax_points\u001B[0m\u001B[0;34m,\u001B[0m \u001B[0mn_keypoint\u001B[0m\u001B[0;34m)\u001B[0m\u001B[0;34m.\u001B[0m\u001B[0mto\u001B[0m\u001B[0;34m(\u001B[0m\u001B[0mdevice\u001B[0m\u001B[0;34m)\u001B[0m\u001B[0;34m\u001B[0m\u001B[0;34m\u001B[0m\u001B[0m\n\u001B[0;32m----> 2\u001B[0;31m \u001B[0mnet\u001B[0m\u001B[0;34m.\u001B[0m\u001B[0mload_state_dict\u001B[0m\u001B[0;34m(\u001B[0m\u001B[0mtorch\u001B[0m\u001B[0;34m.\u001B[0m\u001B[0mload\u001B[0m\u001B[0;34m(\u001B[0m\u001B[0mcheckpoint_path\u001B[0m\u001B[0;34m,\u001B[0m \u001B[0mmap_location\u001B[0m\u001B[0;34m=\u001B[0m\u001B[0mtorch\u001B[0m\u001B[0;34m.\u001B[0m\u001B[0mdevice\u001B[0m\u001B[0;34m(\u001B[0m\u001B[0mdevice\u001B[0m\u001B[0;34m)\u001B[0m\u001B[0;34m)\u001B[0m\u001B[0;34m[\u001B[0m\u001B[0;34m'model_state_dict'\u001B[0m\u001B[0;34m]\u001B[0m\u001B[0;34m)\u001B[0m\u001B[0;34m\u001B[0m\u001B[0;34m\u001B[0m\u001B[0m\n\u001B[0m\u001B[1;32m      3\u001B[0m \u001B[0mnet\u001B[0m\u001B[0;34m.\u001B[0m\u001B[0meval\u001B[0m\u001B[0;34m(\u001B[0m\u001B[0;34m)\u001B[0m\u001B[0;34m\u001B[0m\u001B[0;34m\u001B[0m\u001B[0m\n",
      "\u001B[0;32m~/anaconda3/lib/python3.9/site-packages/torch/nn/modules/module.py\u001B[0m in \u001B[0;36mload_state_dict\u001B[0;34m(self, state_dict, strict)\u001B[0m\n\u001B[1;32m   1602\u001B[0m \u001B[0;34m\u001B[0m\u001B[0m\n\u001B[1;32m   1603\u001B[0m         \u001B[0;32mif\u001B[0m \u001B[0mlen\u001B[0m\u001B[0;34m(\u001B[0m\u001B[0merror_msgs\u001B[0m\u001B[0;34m)\u001B[0m \u001B[0;34m>\u001B[0m \u001B[0;36m0\u001B[0m\u001B[0;34m:\u001B[0m\u001B[0;34m\u001B[0m\u001B[0;34m\u001B[0m\u001B[0m\n\u001B[0;32m-> 1604\u001B[0;31m             raise RuntimeError('Error(s) in loading state_dict for {}:\\n\\t{}'.format(\n\u001B[0m\u001B[1;32m   1605\u001B[0m                                self.__class__.__name__, \"\\n\\t\".join(error_msgs)))\n\u001B[1;32m   1606\u001B[0m         \u001B[0;32mreturn\u001B[0m \u001B[0m_IncompatibleKeys\u001B[0m\u001B[0;34m(\u001B[0m\u001B[0mmissing_keys\u001B[0m\u001B[0;34m,\u001B[0m \u001B[0munexpected_keys\u001B[0m\u001B[0;34m)\u001B[0m\u001B[0;34m\u001B[0m\u001B[0;34m\u001B[0m\u001B[0m\n",
      "\u001B[0;31mRuntimeError\u001B[0m: Error(s) in loading state_dict for Net:\n\tMissing key(s) in state_dict: \"DEC.10.0.emb\", \"DEC.10.1.emb\", \"DEC.10.2.emb\", \"DEC.10.3.emb\", \"DEC.10.4.emb\", \"DEC.10.5.emb\", \"DEC.10.6.emb\", \"DEC.10.7.emb\", \"DEC.10.8.emb\", \"DEC.10.9.emb\", \"DEC.11.0.emb\", \"DEC.11.1.emb\", \"DEC.11.2.emb\", \"DEC.11.3.emb\", \"DEC.11.4.emb\", \"DEC.11.5.emb\", \"DEC.11.6.emb\", \"DEC.11.7.emb\", \"DEC.11.8.emb\", \"DEC.11.9.emb\", \"DEC.11.10.emb\", \"DEC.12.0.emb\", \"DEC.12.1.emb\", \"DEC.12.2.emb\", \"DEC.12.3.emb\", \"DEC.12.4.emb\", \"DEC.12.5.emb\", \"DEC.12.6.emb\", \"DEC.12.7.emb\", \"DEC.12.8.emb\", \"DEC.12.9.emb\", \"DEC.12.10.emb\", \"DEC.12.11.emb\", \"DEC.13.0.emb\", \"DEC.13.1.emb\", \"DEC.13.2.emb\", \"DEC.13.3.emb\", \"DEC.13.4.emb\", \"DEC.13.5.emb\", \"DEC.13.6.emb\", \"DEC.13.7.emb\", \"DEC.13.8.emb\", \"DEC.13.9.emb\", \"DEC.13.10.emb\", \"DEC.13.11.emb\", \"DEC.13.12.emb\", \"DEC.14.0.emb\", \"DEC.14.1.emb\", \"DEC.14.2.emb\", \"DEC.14.3.emb\", \"DEC.14.4.emb\", \"DEC.14.5.emb\", \"DEC.14.6.emb\", \"DEC.14.7.emb\", \"DEC.14.8.emb\", \"DEC.14.9.emb\", \"DEC.14.10.emb\", \"DEC.14.11.emb\", \"DEC.14.12.emb\", \"DEC.14.13.emb\", \"DEC.15.0.emb\", \"DEC.15.1.emb\", \"DEC.15.2.emb\", \"DEC.15.3.emb\", \"DEC.15.4.emb\", \"DEC.15.5.emb\", \"DEC.15.6.emb\", \"DEC.15.7.emb\", \"DEC.15.8.emb\", \"DEC.15.9.emb\", \"DEC.15.10.emb\", \"DEC.15.11.emb\", \"DEC.15.12.emb\", \"DEC.15.13.emb\", \"DEC.15.14.emb\", \"DEC.16.0.emb\", \"DEC.16.1.emb\", \"DEC.16.2.emb\", \"DEC.16.3.emb\", \"DEC.16.4.emb\", \"DEC.16.5.emb\", \"DEC.16.6.emb\", \"DEC.16.7.emb\", \"DEC.16.8.emb\", \"DEC.16.9.emb\", \"DEC.16.10.emb\", \"DEC.16.11.emb\", \"DEC.16.12.emb\", \"DEC.16.13.emb\", \"DEC.16.14.emb\", \"DEC.16.15.emb\", \"DEC.17.0.emb\", \"DEC.17.1.emb\", \"DEC.17.2.emb\", \"DEC.17.3.emb\", \"DEC.17.4.emb\", \"DEC.17.5.emb\", \"DEC.17.6.emb\", \"DEC.17.7.emb\", \"DEC.17.8.emb\", \"DEC.17.9.emb\", \"DEC.17.10.emb\", \"DEC.17.11.emb\", \"DEC.17.12.emb\", \"DEC.17.13.emb\", \"DEC.17.14.emb\", \"DEC.17.15.emb\", \"DEC.17.16.emb\", \"DEC.18.0.emb\", \"DEC.18.1.emb\", \"DEC.18.2.emb\", \"DEC.18.3.emb\", \"DEC.18.4.emb\", \"DEC.18.5.emb\", \"DEC.18.6.emb\", \"DEC.18.7.emb\", \"DEC.18.8.emb\", \"DEC.18.9.emb\", \"DEC.18.10.emb\", \"DEC.18.11.emb\", \"DEC.18.12.emb\", \"DEC.18.13.emb\", \"DEC.18.14.emb\", \"DEC.18.15.emb\", \"DEC.18.16.emb\", \"DEC.18.17.emb\", \"DEC.19.0.emb\", \"DEC.19.1.emb\", \"DEC.19.2.emb\", \"DEC.19.3.emb\", \"DEC.19.4.emb\", \"DEC.19.5.emb\", \"DEC.19.6.emb\", \"DEC.19.7.emb\", \"DEC.19.8.emb\", \"DEC.19.9.emb\", \"DEC.19.10.emb\", \"DEC.19.11.emb\", \"DEC.19.12.emb\", \"DEC.19.13.emb\", \"DEC.19.14.emb\", \"DEC.19.15.emb\", \"DEC.19.16.emb\", \"DEC.19.17.emb\", \"DEC.19.18.emb\". \n\tsize mismatch for MA_EMB: copying a param with shape torch.Size([45]) from checkpoint, the shape in current model is torch.Size([190]).\n\tsize mismatch for PTW.conv2.weight: copying a param with shape torch.Size([10, 128, 1]) from checkpoint, the shape in current model is torch.Size([20, 128, 1]).\n\tsize mismatch for PTW.conv2.bias: copying a param with shape torch.Size([10]) from checkpoint, the shape in current model is torch.Size([20]).\n\tsize mismatch for PT_L.weight: copying a param with shape torch.Size([10, 10]) from checkpoint, the shape in current model is torch.Size([20, 20]).\n\tsize mismatch for PT_L.bias: copying a param with shape torch.Size([10]) from checkpoint, the shape in current model is torch.Size([20]).\n\tsize mismatch for MA_L.weight: copying a param with shape torch.Size([45, 256]) from checkpoint, the shape in current model is torch.Size([190, 256]).\n\tsize mismatch for MA_L.bias: copying a param with shape torch.Size([45]) from checkpoint, the shape in current model is torch.Size([190])."
     ]
    }
   ],
   "source": [
    "net = Net(max_points, n_keypoint).to(device)\n",
    "net.load_state_dict(torch.load(checkpoint_path, map_location=torch.device(device))['model_state_dict'])\n",
    "net.eval()"
   ],
   "metadata": {
    "collapsed": false,
    "ExecuteTime": {
     "end_time": "2023-08-10T13:34:42.533285802Z",
     "start_time": "2023-08-10T13:34:42.476772389Z"
    }
   },
   "id": "6ef483c7089c19"
  },
  {
   "cell_type": "code",
   "execution_count": 9,
   "outputs": [],
   "source": [
    "\n",
    "ori_data,kpn_ds,paths=prepare_data(pcd_path)"
   ],
   "metadata": {
    "collapsed": false,
    "ExecuteTime": {
     "start_time": "2023-08-10T13:28:50.496438246Z"
    }
   },
   "id": "452f0ce842bdbc00"
  },
  {
   "cell_type": "code",
   "execution_count": 11,
   "outputs": [
    {
     "name": "stderr",
     "output_type": "stream",
     "text": [
      "  0%|          | 0/500 [00:00<?, ?it/s]/home/luhr/anaconda3/lib/python3.9/site-packages/torch/nn/functional.py:1960: UserWarning: nn.functional.sigmoid is deprecated. Use torch.sigmoid instead.\n",
      "  warnings.warn(\"nn.functional.sigmoid is deprecated. Use torch.sigmoid instead.\")\n",
      "100%|██████████| 500/500 [00:36<00:00, 13.68it/s]\n"
     ]
    },
    {
     "ename": "KeyboardInterrupt",
     "evalue": "",
     "output_type": "error",
     "traceback": [
      "\u001B[0;31m---------------------------------------------------------------------------\u001B[0m",
      "\u001B[0;31mKeyboardInterrupt\u001B[0m                         Traceback (most recent call last)",
      "\u001B[0;32m/tmp/ipykernel_14749/1678198428.py\u001B[0m in \u001B[0;36m<module>\u001B[0;34m\u001B[0m\n\u001B[1;32m     18\u001B[0m \u001B[0;32mfor\u001B[0m \u001B[0mi\u001B[0m \u001B[0;32min\u001B[0m \u001B[0mrange\u001B[0m\u001B[0;34m(\u001B[0m\u001B[0mlen\u001B[0m\u001B[0;34m(\u001B[0m\u001B[0mout_kpcd\u001B[0m\u001B[0;34m)\u001B[0m\u001B[0;34m)\u001B[0m\u001B[0;34m:\u001B[0m\u001B[0;34m\u001B[0m\u001B[0;34m\u001B[0m\u001B[0m\n\u001B[1;32m     19\u001B[0m     \u001B[0mkp_id\u001B[0m\u001B[0;34m=\u001B[0m\u001B[0mfind_nearest_point\u001B[0m\u001B[0;34m(\u001B[0m\u001B[0mori_data\u001B[0m\u001B[0;34m[\u001B[0m\u001B[0mi\u001B[0m\u001B[0;34m]\u001B[0m\u001B[0;34m,\u001B[0m\u001B[0mout_kpcd\u001B[0m\u001B[0;34m[\u001B[0m\u001B[0mi\u001B[0m\u001B[0;34m]\u001B[0m\u001B[0;34m)\u001B[0m\u001B[0;34m\u001B[0m\u001B[0;34m\u001B[0m\u001B[0m\n\u001B[0;32m---> 20\u001B[0;31m     \u001B[0mvisualize_pointcloud\u001B[0m\u001B[0;34m(\u001B[0m\u001B[0mori_data\u001B[0m\u001B[0;34m[\u001B[0m\u001B[0mi\u001B[0m\u001B[0;34m]\u001B[0m\u001B[0;34m,\u001B[0m\u001B[0mkp_id\u001B[0m\u001B[0;34m)\u001B[0m\u001B[0;34m\u001B[0m\u001B[0;34m\u001B[0m\u001B[0m\n\u001B[0m\u001B[1;32m     21\u001B[0m     \u001B[0mnp\u001B[0m\u001B[0;34m.\u001B[0m\u001B[0msavez\u001B[0m\u001B[0;34m(\u001B[0m\u001B[0mpaths\u001B[0m\u001B[0;34m[\u001B[0m\u001B[0mi\u001B[0m\u001B[0;34m]\u001B[0m\u001B[0;34m.\u001B[0m\u001B[0mreplace\u001B[0m\u001B[0;34m(\u001B[0m\u001B[0;34m'processed.obj'\u001B[0m\u001B[0;34m,\u001B[0m\u001B[0;34m'keypoints.npz'\u001B[0m\u001B[0;34m)\u001B[0m\u001B[0;34m,\u001B[0m\u001B[0mkeypoints\u001B[0m\u001B[0;34m=\u001B[0m\u001B[0mout_kpcd\u001B[0m\u001B[0;34m[\u001B[0m\u001B[0mi\u001B[0m\u001B[0;34m]\u001B[0m\u001B[0;34m,\u001B[0m\u001B[0mkeypoint_id\u001B[0m\u001B[0;34m=\u001B[0m\u001B[0mkp_id\u001B[0m\u001B[0;34m,\u001B[0m\u001B[0mpointcloud\u001B[0m\u001B[0;34m=\u001B[0m\u001B[0mori_data\u001B[0m\u001B[0;34m[\u001B[0m\u001B[0mi\u001B[0m\u001B[0;34m]\u001B[0m\u001B[0;34m)\u001B[0m\u001B[0;34m\u001B[0m\u001B[0;34m\u001B[0m\u001B[0m\n",
      "\u001B[0;32m/tmp/ipykernel_14749/2287303237.py\u001B[0m in \u001B[0;36mvisualize_pointcloud\u001B[0;34m(pc, kp)\u001B[0m\n\u001B[1;32m     96\u001B[0m     \u001B[0mcolors\u001B[0m\u001B[0;34m[\u001B[0m\u001B[0mkp\u001B[0m\u001B[0;34m]\u001B[0m\u001B[0;34m=\u001B[0m\u001B[0mnp\u001B[0m\u001B[0;34m.\u001B[0m\u001B[0marray\u001B[0m\u001B[0;34m(\u001B[0m\u001B[0;34m[\u001B[0m\u001B[0;36m1\u001B[0m\u001B[0;34m,\u001B[0m\u001B[0;36m0\u001B[0m\u001B[0;34m,\u001B[0m\u001B[0;36m0\u001B[0m\u001B[0;34m]\u001B[0m\u001B[0;34m)\u001B[0m\u001B[0;34m\u001B[0m\u001B[0;34m\u001B[0m\u001B[0m\n\u001B[1;32m     97\u001B[0m     \u001B[0mpcd\u001B[0m\u001B[0;34m.\u001B[0m\u001B[0mcolors\u001B[0m\u001B[0;34m=\u001B[0m\u001B[0mo3d\u001B[0m\u001B[0;34m.\u001B[0m\u001B[0mutility\u001B[0m\u001B[0;34m.\u001B[0m\u001B[0mVector3dVector\u001B[0m\u001B[0;34m(\u001B[0m\u001B[0mcolors\u001B[0m\u001B[0;34m)\u001B[0m\u001B[0;34m\u001B[0m\u001B[0;34m\u001B[0m\u001B[0m\n\u001B[0;32m---> 98\u001B[0;31m     \u001B[0mo3d\u001B[0m\u001B[0;34m.\u001B[0m\u001B[0mvisualization\u001B[0m\u001B[0;34m.\u001B[0m\u001B[0mdraw_geometries\u001B[0m\u001B[0;34m(\u001B[0m\u001B[0;34m[\u001B[0m\u001B[0mpcd\u001B[0m\u001B[0;34m]\u001B[0m\u001B[0;34m)\u001B[0m\u001B[0;34m\u001B[0m\u001B[0;34m\u001B[0m\u001B[0m\n\u001B[0m",
      "\u001B[0;31mKeyboardInterrupt\u001B[0m: "
     ]
    }
   ],
   "source": [
    "out_kpcd=[]\n",
    "for i in tqdm.tqdm(range(0, len(kpn_ds), batch), unit_scale=batch):\n",
    "    Q = []\n",
    "    for j in range(batch):\n",
    "        if i + j >= len(kpn_ds):\n",
    "            continue\n",
    "        pc = kpn_ds[i + j]\n",
    "        Q.append(pc)\n",
    "    if len(Q) == 1:\n",
    "        Q.append(Q[-1])\n",
    "    with torch.no_grad():\n",
    "        recon, key_points, kpa, emb, null_activation = net(torch.Tensor(np.array(Q)).to(device))\n",
    "    for kp in key_points:\n",
    "        out_kpcd.append(kp)\n",
    "for i in range(len(out_kpcd)):\n",
    "    out_kpcd[i] = out_kpcd[i].cpu().numpy()\n",
    "\n",
    "for i in range(len(out_kpcd)):\n",
    "    kp_id=find_nearest_point(ori_data[i],out_kpcd[i])\n",
    "    # visualize_pointcloud(ori_data[i],kp_id)\n",
    "    np.savez(paths[i].replace('processed.obj','keypoints.npz'),keypoints=out_kpcd[i],keypoint_id=kp_id,pointcloud=ori_data[i])"
   ],
   "metadata": {
    "collapsed": false,
    "ExecuteTime": {
     "end_time": "2023-08-10T13:32:05.870186045Z",
     "start_time": "2023-08-10T13:30:46.368463275Z"
    }
   },
   "id": "d9aec90c288b2722"
  }
 ],
 "metadata": {
  "kernelspec": {
   "display_name": "Python 3",
   "language": "python",
   "name": "python3"
  },
  "language_info": {
   "codemirror_mode": {
    "name": "ipython",
    "version": 2
   },
   "file_extension": ".py",
   "mimetype": "text/x-python",
   "name": "python",
   "nbconvert_exporter": "python",
   "pygments_lexer": "ipython2",
   "version": "2.7.6"
  }
 },
 "nbformat": 4,
 "nbformat_minor": 5
}
